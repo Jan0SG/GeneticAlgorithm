{
  "nbformat": 4,
  "nbformat_minor": 0,
  "metadata": {
    "colab": {
      "provenance": []
    },
    "kernelspec": {
      "name": "python3",
      "display_name": "Python 3"
    },
    "language_info": {
      "name": "python"
    }
  },
  "cells": [
    {
      "cell_type": "code",
      "execution_count": null,
      "metadata": {
        "id": "Z9mdRBNo-uVV"
      },
      "outputs": [],
      "source": [
        "import networkx as nx\n",
        "import matplotlib.pyplot as plt\n",
        "import random\n",
        "import copy\n",
        "\n",
        "# Creates new graph\n",
        "G = nx.Graph()\n",
        "\n",
        "# Adding the cities\n",
        "G.add_nodes_from(['Amsterdam', 'Berlin', 'Cologne', 'London', 'Brussels', 'Frankfurt',\n",
        "                  'Paris', 'Lyon', 'Milan', 'Rome', 'Barcelona', 'Madrid'])\n",
        "\n",
        "\n",
        "# Adding the weighted edges\n",
        "G.add_edge(\"Amsterdam\", \"Berlin\", time=364, cost=235)\n",
        "G.add_edge(\"Amsterdam\", \"Cologne\", time=120, cost=40)\n",
        "G.add_edge(\"Amsterdam\", \"Brussels\", time=105, cost=48)\n",
        "\n",
        "G.add_edge(\"Berlin\", \"Amsterdam\", time=364, cost=235)\n",
        "G.add_edge(\"Berlin\", \"Frankfurt\", time=232, cost=125)\n",
        "\n",
        "G.add_edge(\"Cologne\", \"Amsterdam\", time=120, cost=40)\n",
        "G.add_edge(\"Cologne\", \"Frankfurt\", time=120, cost=40)\n",
        "\n",
        "G.add_edge(\"Frankfurt\", \"Berlin\", time=232, cost=125)\n",
        "G.add_edge(\"Frankfurt\", \"Cologne\", time=120, cost=40)\n",
        "G.add_edge(\"Frankfurt\", \"Paris\", time=480, cost=345)\n",
        "G.add_edge(\"Frankfurt\", \"Milan\", time=454, cost=240)\n",
        "\n",
        "G.add_edge(\"Brussels\", \"Amsterdam\", time=105, cost=48)\n",
        "G.add_edge(\"Brussels\", \"Paris\", time=82, cost=80)\n",
        "\n",
        "G.add_edge(\"London\", \"Paris\", time=136, cost=98)\n",
        "G.add_edge(\"London\", \"Brussels\", time=136, cost=98)\n",
        "\n",
        "G.add_edge(\"Paris\", \"London\", time=136, cost=98)\n",
        "G.add_edge(\"Paris\", \"Brussels\", time=82, cost=80)\n",
        "G.add_edge(\"Paris\", \"Frankfurt\", time=480, cost=345)\n",
        "G.add_edge(\"Paris\", \"Lyon\", time=112, cost=185)\n",
        "G.add_edge(\"Paris\", \"Barcelona\", time=390, cost=400)\n",
        "G.add_edge(\"Paris\", \"Madrid\", time=225, cost=380)\n",
        "\n",
        "G.add_edge(\"Lyon\", \"Paris\", time=112, cost=185)\n",
        "G.add_edge(\"Lyon\", \"Milan\", time=176, cost=180)\n",
        "G.add_edge(\"Lyon\", \"Barcelona\", time=200, cost=320)\n",
        "\n",
        "G.add_edge(\"Milan\", \"Frankfurt\", time=454, cost=240)\n",
        "G.add_edge(\"Milan\", \"Rome\", time=168, cost=125)\n",
        "G.add_edge(\"Milan\", \"Lyon\", time=176, cost=180)\n",
        "\n",
        "G.add_edge(\"Barcelona\", \"Paris\", time=390, cost=400)\n",
        "G.add_edge(\"Barcelona\", \"Lyon\", time=200, cost=320)\n",
        "G.add_edge(\"Barcelona\", \"Madrid\", time=150, cost=98)\n",
        "\n",
        "G.add_edge(\"Madrid\", \"Paris\", time=225, cost=380)\n",
        "G.add_edge(\"Madrid\", \"Barcelona\", time=150, cost=98)\n"
      ]
    },
    {
      "cell_type": "code",
      "source": [
        "# We create a positions dictionary to place every node in a determined position\n",
        "pos = {\n",
        "        \"London\": (0.5, 6),\n",
        "        \"Madrid\": (0, 0),\n",
        "        \"Paris\": (1.5, 4),\n",
        "        \"Barcelona\": (1, 1),\n",
        "        \"Brussels\": (2, 5),\n",
        "        \"Amsterdam\": (2.5, 7),\n",
        "        \"Lyon\": (2.5, 2.5),\n",
        "        \"Cologne\": (3, 6),\n",
        "        \"Frankfurt\": (3.5, 5),\n",
        "        \"Milan\": (3.5, 2.5),\n",
        "        \"Berlin\": (4, 7),\n",
        "        \"Rome\": (4, 1.5),\n",
        "      }"
      ],
      "metadata": {
        "id": "4xdvU3qfBhOE"
      },
      "execution_count": null,
      "outputs": []
    },
    {
      "cell_type": "code",
      "source": [
        "edge_labels = {}\n",
        "# this assumes all the edges have the same labels 'cost' and 'time' \n",
        "for u, v, data in G.edges(data=True):\n",
        "    edge_labels[u, v] = f\"{data['cost']}\\n{data['time']}\"\n",
        "\n",
        "\n",
        "# Drawing the graph\n",
        "nx.draw(G, pos, with_labels=True, node_color='#FF56AE', font_weight='bold', font_size=7, node_size=180)\n",
        "\n",
        "# We add the weigths to every edge\n",
        "nx.draw_networkx_edge_labels(G, pos, edge_labels=edge_labels, font_size=7, font_weight='bold')\n",
        "\n",
        "# Show the graph on screen\n",
        "plt.show()"
      ],
      "metadata": {
        "id": "zo81D0YmIByu",
        "colab": {
          "base_uri": "https://localhost:8080/",
          "height": 516
        },
        "outputId": "3ec99847-b55d-4fd8-ab28-e00608f79355"
      },
      "execution_count": null,
      "outputs": [
        {
          "output_type": "display_data",
          "data": {
            "text/plain": [
              "<Figure size 640x480 with 1 Axes>"
            ],
            "image/png": "[encoded data removed]"
          },
          "metadata": {}
        }
      ]
    },
    {
      "cell_type": "code",
      "source": [
        "def generate_random_path():\n",
        "    # Start at a random node\n",
        "    current_node = random.choice(list(G.nodes()))\n",
        "\n",
        "    # Initialize the path, time and cost\n",
        "    path = [current_node]\n",
        "    time = 0\n",
        "    cost = 0\n",
        "\n",
        "    # Traverse the graph until the time constraint is met or no more neighbors are available\n",
        "    unique = 0\n",
        "    while time < 4320:\n",
        "      # Get the neighbors of the current node\n",
        "      neighbors = list(G[current_node])\n",
        "\n",
        "      # Remove any neighbors that have already been visited\n",
        "      unvisited_neighbors = [n for n in neighbors if n not in path]\n",
        "\n",
        "      if not unvisited_neighbors:\n",
        "          break\n",
        "\n",
        "      # Choose a random unvisited neighbor\n",
        "      next_node = random.choice(unvisited_neighbors)\n",
        "\n",
        "      # Update the path, time and cost\n",
        "      path.append(next_node)\n",
        "      edge = G[current_node][next_node]\n",
        "      time += edge['time']\n",
        "      cost += edge['cost']\n",
        "\n",
        "      # Move to the next node\n",
        "      current_node = next_node\n",
        "\n",
        "    return path, time, cost"
      ],
      "metadata": {
        "id": "RK07FQAIJFaG"
      },
      "execution_count": null,
      "outputs": []
    },
    {
      "cell_type": "code",
      "source": [
        "def path_fitness(path):\n",
        "\n",
        "    for i in range(len(path)-1):\n",
        "      try:\n",
        "        edge = G[path[i]][path[i+1]]\n",
        "      except:\n",
        "        return 0\n",
        "        #if not graph.has_edge(path[i], path[i+1]):\n",
        "         #   return 0.0  # if any edge is missing, return 0.0 for infeasible path\n",
        "\n",
        "    # Calculate the sum of the cost of the path\n",
        "    cost = 1/sum(G[path[i]][path[i+1]]['cost'] for i in range(len(path)-1))\n",
        "    \n",
        "    # Calculate the number of unique nodes in the path\n",
        "    unique_nodes = len(set(path))\n",
        "\n",
        "    # Return the sum of the cost and the number of unique nodes\n",
        "    return cost + unique_nodes"
      ],
      "metadata": {
        "id": "vnr6HJdNxng2"
      },
      "execution_count": null,
      "outputs": []
    },
    {
      "cell_type": "code",
      "source": [
        "# Create an individual path\n",
        "def create_individual():\n",
        "    path, time, cost = generate_random_path()\n",
        "    fitness = path_fitness(path)\n",
        "    path_dict = {'path': path, 'time': time, 'cost': cost, 'fitness': fitness}\n",
        "    \n",
        "    return path_dict"
      ],
      "metadata": {
        "id": "_9HYabNbxuer"
      },
      "execution_count": null,
      "outputs": []
    },
    {
      "cell_type": "code",
      "source": [
        "# Create the first generation of paths\n",
        "def firstGeneration(genSize):\n",
        "  population = []\n",
        "  for i in range(genSize):\n",
        "      path = create_individual()\n",
        "      population.append(path)\n",
        "  return population"
      ],
      "metadata": {
        "id": "i-iupHTCXfSW"
      },
      "execution_count": null,
      "outputs": []
    },
    {
      "cell_type": "code",
      "source": [
        "# Find the two best paths with the highest fitness scores\n",
        "def sorting_gen(paths):\n",
        "    # Sort the paths based on their fitness scores\n",
        "    #sorted_paths = []\n",
        "    sorted_paths = sorted(paths, key=lambda x: x['fitness'], reverse = True)\n",
        "\n",
        "    # Return the list of best paths\n",
        "    return sorted_paths"
      ],
      "metadata": {
        "id": "PaOe3PSPa6my"
      },
      "execution_count": null,
      "outputs": []
    },
    {
      "cell_type": "code",
      "source": [
        "def calculate_time_and_cost(path):\n",
        "    total_time = 0\n",
        "    total_cost = 0\n",
        "    for i in range(len(path)-1):\n",
        "\n",
        "      try:\n",
        "        edge = G[path[i]][path[i+1]]\n",
        "      except:\n",
        "        return 0, 0\n",
        "\n",
        "      total_time += edge['time']\n",
        "      total_cost += edge['cost']\n",
        "    return total_time, total_cost"
      ],
      "metadata": {
        "id": "RGyCKXsR2prt"
      },
      "execution_count": null,
      "outputs": []
    },
    {
      "cell_type": "code",
      "source": [
        "def single_point_crossover(path_1, path_2):\n",
        "    # Get the paths from the individuals\n",
        "    #path_1 = individual_1['path']\n",
        "    #path_2 = individual_2['path']\n",
        "    \n",
        "    # Choose a random crossover point\n",
        "    crossover_point = random.randint(1, len(path_1) - 1)\n",
        "    \n",
        "    # Create the new paths by swapping the tails of the paths\n",
        "    new_path_1 = path_1['path'][:crossover_point] + path_2['path'][crossover_point:]\n",
        "    new_path_2 = path_2['path'][:crossover_point] + path_1['path'][crossover_point:]\n",
        "    \n",
        "    # Create the new individuals with the new paths\n",
        "    new_individual_1 = {'path': new_path_1, 'time': 0, 'cost': 0, 'fitness': 0}\n",
        "    new_individual_2 = {'path': new_path_2, 'time': 0, 'cost': 0, 'fitness': 0}\n",
        "    \n",
        "    # Calculate the time and cost for the new individuals\n",
        "    new_individual_1['time'], new_individual_1['cost'] = calculate_time_and_cost(new_path_1)\n",
        "    new_individual_2['time'], new_individual_2['cost'] = calculate_time_and_cost(new_path_2)\n",
        "    \n",
        "    # Calculate the fitness for the new individuals\n",
        "    new_individual_1['fitness'] = path_fitness(new_path_1)\n",
        "    new_individual_2['fitness'] = path_fitness(new_path_2)\n",
        "    \n",
        "    return new_individual_1, new_individual_2\n"
      ],
      "metadata": {
        "id": "JYePuHs9iEYG"
      },
      "execution_count": null,
      "outputs": []
    },
    {
      "cell_type": "code",
      "source": [
        "# Creating the next generation + best individuals from previous generation\n",
        "def breedPopulation(matingpool, eliteSize):\n",
        "    nextGen = []\n",
        "    new_children = len(matingpool) - eliteSize\n",
        "\n",
        "    for i in range (0, eliteSize):\n",
        "      nextGen.append(matingpool[i])\n",
        "\n",
        "    for i in range(0, new_children, 2):\n",
        "      child1, child2 = single_point_crossover(matingpool[i], matingpool[i+1])\n",
        "\n",
        "      if child1['fitness'] != 0:\n",
        "        nextGen.append(child1)\n",
        "      \n",
        "      if child2['fitness'] != 0:\n",
        "        nextGen.append(child2)\n",
        "    \n",
        "    return nextGen"
      ],
      "metadata": {
        "id": "_Ksxauknao7u"
      },
      "execution_count": null,
      "outputs": []
    },
    {
      "cell_type": "code",
      "source": [
        "def mutateIndividual(path, mutation_rate):\n",
        "    mutated = path\n",
        "    if random.uniform(0, 1) < mutation_rate:\n",
        "        # Choose two random positions in the chromosome\n",
        "        position1 = random.randint(0, len(path['path']) - 1)\n",
        "        position2 = random.randint(0, len(path['path']) - 1)\n",
        "\n",
        "        # Clear variable\n",
        "        mutated['time'] = 0\n",
        "        mutated['cost'] = 0\n",
        "        mutated['fitness'] = 0\n",
        "\n",
        "        # Swap the cities at the chosen positions\n",
        "        path['path'][position1], path['path'][position2] = path['path'][position2], path['path'][position1]\n",
        "    \n",
        "        # Calculate the time and cost for the new individuals\n",
        "        mutated['time'], mutated['cost'] = calculate_time_and_cost(path)\n",
        "        \n",
        "        # Calculate the fitness for the new individuals\n",
        "        mutated['fitness'] = path_fitness(mutated)\n",
        "        mutated['fitness'] = path_fitness(mutated)\n",
        "    return mutated"
      ],
      "metadata": {
        "id": "ueQVN_jgLOMo"
      },
      "execution_count": null,
      "outputs": []
    },
    {
      "cell_type": "code",
      "source": [
        "def mutatePopulation(generation, mutationRate):\n",
        "  mutatedGen = []\n",
        "\n",
        "  for i in range(0, len(generation)):\n",
        "    mutatedIndividual = mutateIndividual(generation[i], mutationRate)\n",
        "    mutatedGen.append(mutatedIndividual)\n",
        "  \n",
        "  return mutatedGen"
      ],
      "metadata": {
        "id": "wjypLlW9yObr"
      },
      "execution_count": null,
      "outputs": []
    },
    {
      "cell_type": "code",
      "source": [
        "def nextGeneration(currentGen, eliteSize, mutationRate):\n",
        "    genRanked = sorting_gen(currentGen)\n",
        "    children = breedPopulation(genRanked, eliteSize)\n",
        "    nextGeneration = mutatePopulation(children, mutationRate)\n",
        "    return nextGeneration"
      ],
      "metadata": {
        "id": "bylmK2XSzwyR"
      },
      "execution_count": null,
      "outputs": []
    },
    {
      "cell_type": "code",
      "source": [
        "# Putting everything together\n",
        "def geneticAlgorithm(popSize, eliteSize, mutationRate, generations):\n",
        "    pop = firstGeneration(popSize)\n",
        "    print(\"Initial distance: \" + str(sorting_gen(pop)[0]['fitness']))\n",
        "    \n",
        "    for i in range(generations):\n",
        "      pop = nextGeneration(pop, eliteSize, mutationRate)\n",
        "      print(\"Distance from generation \", str(i+1), \": \", str(sorting_gen(pop)[0]['fitness']))\n",
        "    \n",
        "    print(\"Final distance: \" + str(sorting_gen(pop)[0]))\n",
        "    bestRoute = sorting_gen(pop)[0]\n",
        "    return bestRoute"
      ],
      "metadata": {
        "id": "1j_2V3Xg0f4v"
      },
      "execution_count": null,
      "outputs": []
    },
    {
      "cell_type": "code",
      "source": [
        "print('Best route: ', geneticAlgorithm(popSize = 100, eliteSize = 20, mutationRate = 0.1, generations = 50))"
      ],
      "metadata": {
        "colab": {
          "base_uri": "https://localhost:8080/"
        },
        "id": "kPQwEbne2OO6",
        "outputId": "39904976-7d89-4f40-a3a6-0b1e57a50203"
      },
      "execution_count": null,
      "outputs": [
        {
          "output_type": "stream",
          "name": "stdout",
          "text": [
            "Initial distance: 11.00077399380805\n",
            "Distance from generation  1 :  11.00077399380805\n",
            "Distance from generation  2 :  11.00077399380805\n",
            "Distance from generation  3 :  11.00077399380805\n",
            "Distance from generation  4 :  11.00077399380805\n",
            "Distance from generation  5 :  11.00067842605156\n",
            "Distance from generation  6 :  11.000578368999422\n",
            "Distance from generation  7 :  10.000818330605565\n",
            "Distance from generation  8 :  10.000818330605565\n",
            "Distance from generation  9 :  10.000818330605565\n",
            "Distance from generation  10 :  10.000818330605565\n",
            "Distance from generation  11 :  10.000818330605565\n",
            "Distance from generation  12 :  10.000818330605565\n",
            "Distance from generation  13 :  10.000818330605565\n",
            "Distance from generation  14 :  10.000818330605565\n",
            "Distance from generation  15 :  10.000818330605565\n",
            "Distance from generation  16 :  10.000818330605565\n",
            "Distance from generation  17 :  10.000818330605565\n",
            "Distance from generation  18 :  10.000818330605565\n",
            "Distance from generation  19 :  10.000818330605565\n",
            "Distance from generation  20 :  10.000818330605565\n",
            "Distance from generation  21 :  10.000818330605565\n",
            "Distance from generation  22 :  10.000818330605565\n",
            "Distance from generation  23 :  10.000818330605565\n",
            "Distance from generation  24 :  10.000818330605565\n",
            "Distance from generation  25 :  10.000818330605565\n",
            "Distance from generation  26 :  10.000818330605565\n",
            "Distance from generation  27 :  10.000818330605565\n",
            "Distance from generation  28 :  10.000818330605565\n",
            "Distance from generation  29 :  10.000818330605565\n",
            "Distance from generation  30 :  10.000818330605565\n",
            "Distance from generation  31 :  10.000818330605565\n",
            "Distance from generation  32 :  10.000818330605565\n",
            "Distance from generation  33 :  10.000818330605565\n",
            "Distance from generation  34 :  10.000818330605565\n",
            "Distance from generation  35 :  10.000818330605565\n",
            "Distance from generation  36 :  10.000818330605565\n",
            "Distance from generation  37 :  10.000818330605565\n",
            "Distance from generation  38 :  10.000818330605565\n",
            "Distance from generation  39 :  10.000818330605565\n",
            "Distance from generation  40 :  10.000818330605565\n",
            "Distance from generation  41 :  10.000818330605565\n",
            "Distance from generation  42 :  10.000818330605565\n",
            "Distance from generation  43 :  10.000818330605565\n",
            "Distance from generation  44 :  10.000818330605565\n",
            "Distance from generation  45 :  10.000818330605565\n",
            "Distance from generation  46 :  10.000818330605565\n",
            "Distance from generation  47 :  10.000818330605565\n",
            "Distance from generation  48 :  10.000818330605565\n",
            "Distance from generation  49 :  10.000818330605565\n",
            "Distance from generation  50 :  10.000818330605565\n",
            "Final distance: {'path': ['Barcelona', 'Madrid', 'Paris', 'London', 'Brussels', 'Amsterdam', 'Cologne', 'Frankfurt', 'Milan', 'Lyon'], 'time': 1622, 'cost': 1222, 'fitness': 10.000818330605565}\n",
            "Best route:  {'path': ['Barcelona', 'Madrid', 'Paris', 'London', 'Brussels', 'Amsterdam', 'Cologne', 'Frankfurt', 'Milan', 'Lyon'], 'time': 1622, 'cost': 1222, 'fitness': 10.000818330605565}\n"
          ]
        }
      ]
    }
  ]
}